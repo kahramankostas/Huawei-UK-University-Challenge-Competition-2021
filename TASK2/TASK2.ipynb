{
 "cells": [
  {
   "cell_type": "markdown",
   "metadata": {},
   "source": [
    "<center> <h1>Team name: Turquoise</h1> </center>\n",
    "\n",
    "<img src=\"images/k.jpg\" alt=\"drawing\" width=\"800\"/>\n",
    "\n",
    "\n",
    "- Members:\n",
    "\t- **Rabia Yasa Kostas**\n",
    "\t- **Kahraman Kostas**\n",
    "\n",
    "The team presenter: **Kahraman Kostas**"
   ]
  },
  {
   "cell_type": "markdown",
   "metadata": {},
   "source": [
    "<center> <h1>TASK 2</h1> </center> "
   ]
  },
  {
   "cell_type": "markdown",
   "metadata": {},
   "source": [
    "**NOTE: it is sufficient to run all cells from top to bottom, taking into account the bolded notes.**"
   ]
  },
  {
   "cell_type": "markdown",
   "metadata": {},
   "source": [
    "The steps in task 2 can be summarized as follows:\n",
    "\n",
    "- The inputs are read and a graphic file is created from them.\n",
    "- The graphic file is saved as an adjacency list.\n",
    "- The adjacency list is vectorized using `Node2vec`.\n",
    "- IDs are grouped by the k-means algorithm according to the vectors.\n",
    "- The results file (`TASK2-Mysubmission.csv`) is prepared according to the trajectory of IDs .\n",
    "\n",
    "These steps are illustrated in the image below.\n",
    "\n",
    "<img src=\"images/kmeans.png\" alt=\"TASK-2 Steps\" width=\"1000\"/>"
   ]
  },
  {
   "cell_type": "markdown",
   "metadata": {},
   "source": [
    "## 2.1 Installing modules\n",
    "We used [Python 3.6.5](https://www.python.org/downloads/) to create the application file. We included some additional modules that were not included in the example file given at the start of the competition. These modules can be listed as:\n",
    "\n",
    "\n",
    "| Molules | Task |\n",
    "| ------ | ------ |\n",
    "|[ scikit-learn ](https://scikit-learn.org/stable/install.html)| Machine Learning & Data Preparation|\n",
    "|[ node2vec  ](https://snap.stanford.edu/node2vec/)| Scalable Feature Learning for Networks|\n",
    "|[ numpy ](https://numpy.org/) |Mathematical Operations|\n",
    "\n",
    "\n",
    "\n",
    "We started with the installation of these modules as the first step."
   ]
  },
  {
   "cell_type": "code",
   "execution_count": 1,
   "metadata": {},
   "outputs": [],
   "source": [
    "## 2.1 Installing modules\n",
    "!pip install node2vec\n",
    "!pip install scikit-learn\n",
    "!pip install numpy "
   ]
  },
  {
   "cell_type": "markdown",
   "metadata": {},
   "source": [
    "## 2.2  Setting Random Seeds\n",
    "In this step, we fixed the related random seed to be used in order to obtain repeatable results. In this way, we have provided a deterministic path where we get the same result in every run. However, according to our observations, the results obtained on different computers may differ slightly (±1%)"
   ]
  },
  {
   "cell_type": "code",
   "execution_count": 2,
   "metadata": {},
   "outputs": [],
   "source": [
    "## 2.2  Setting Random Seeds\n",
    "seed_value=0\n",
    "import os\n",
    "os.environ['PYTHONHASHSEED']=str(seed_value)\n",
    "import random\n",
    "random.seed(seed_value)\n",
    "import numpy as np\n",
    "np.random.seed(seed_value)"
   ]
  },
  {
   "cell_type": "markdown",
   "metadata": {},
   "source": [
    "## 2.3 Loading the data  \n",
    "In this section, the files given for the test data are loaded.\n",
    "- `wifi`  variable takes IDs and weights from the  `task2_test_estimated_wifi_distances.csv`.\n",
    "- `steps`  variable takes IDs and weights from file `task2_test_steps.csv`.\n",
    "- `elevs`  variable takes IDs from file  `task2_test_elevations.csv`.\n",
    "- `fp_lookup`  variable gets  IDs and trajectories from the  `task2_test_lookup.json` file.\n",
    "\n",
    "\n",
    "We did not prefer the method of recalculating the estimated distances given in wifi with the model we obtained in Task1, because the results we obtained from this process did not make a significant difference. That's why we didn't use the `task2_test_fingerprints.json` file in our ultimate work.\n",
    "\n",
    "\n",
    "\n",
    "\n",
    "**Please make sure there are `task2_test_estimated_wifi_distances.csv`, `task2_test_steps.csv`, `task2_test_elevations.csv`, `task2_test_lookup.json`  files in the `task2_for_participants/test` folder!**"
   ]
  },
  {
   "cell_type": "code",
   "execution_count": 1,
   "metadata": {},
   "outputs": [],
   "source": [
    "# unzip required files\n",
    "import zipfile\n",
    "with zipfile.ZipFile(\"task2_for_participants.zip\", 'r') as zip_ref:\n",
    "    zip_ref.extractall(\"./\")"
   ]
  },
  {
   "cell_type": "code",
   "execution_count": 3,
   "metadata": {},
   "outputs": [
    {
     "name": "stderr",
     "output_type": "stream",
     "text": [
      "3773297it [00:28, 130148.06it/s]\n",
      "2767it [00:00, 32477.68it/s]\n",
      "139537it [00:01, 84595.84it/s]\n"
     ]
    }
   ],
   "source": [
    "## 2.3 Loading the data  \n",
    "import os\n",
    "import json\n",
    "import csv\n",
    "import networkx as nx\n",
    "from tqdm import tqdm\n",
    "\n",
    "path_to_data = \"task2_for_participants/test\"\n",
    "\n",
    "with open(os.path.join(path_to_data,\"task2_test_estimated_wifi_distances.csv\")) as f:\n",
    "    wifi = []\n",
    "    reader = csv.DictReader(f)\n",
    "    for line in tqdm(reader):\n",
    "        wifi.append([line['id1'],line['id2'],float(line['estimated_distance'])])\n",
    "        \n",
    "with open(os.path.join(path_to_data,\"task2_test_elevations.csv\")) as f:\n",
    "    elevs = []\n",
    "    reader = csv.DictReader(f)\n",
    "    for line in tqdm(reader):\n",
    "        elevs.append([line['id1'],line['id2']])        \n",
    "\n",
    "with open(os.path.join(path_to_data,\"task2_test_steps.csv\")) as f:\n",
    "    steps = []\n",
    "    reader = csv.DictReader(f)\n",
    "    for line in tqdm(reader):\n",
    "        steps.append([line['id1'],line['id2'],float(line['displacement'])]) \n",
    "        \n",
    "fp_lookup_path = os.path.join(path_to_data,\"task2_test_lookup.json\")\n",
    "\n",
    "with open(fp_lookup_path) as f:\n",
    "    fp_lookup = json.load(f)"
   ]
  },
  {
   "cell_type": "markdown",
   "metadata": {},
   "source": [
    "## 2.3 Generating the Trajectory  graph. \n",
    "We take the average distance as the weight when creating the Trajectory graph. We used the example given for Task 2 (`Task2-IPS-Challenge-2021.ipynb`) for this process. We saved the resulting graph (`B`) as an adjacency list in the directory (as `my.adjlist`)."
   ]
  },
  {
   "cell_type": "code",
   "execution_count": 4,
   "metadata": {},
   "outputs": [
    {
     "name": "stderr",
     "output_type": "stream",
     "text": [
      "100%|████████████████████████████████████████████████████████████████████| 3773297/3773297 [00:12<00:00, 311222.90it/s]\n",
      "100%|██████████████████████████████████████████████████████████████████████████| 2767/2767 [00:00<00:00, 177144.76it/s]\n"
     ]
    }
   ],
   "source": [
    "## 2.3 Generating the Trajectory  graph. \n",
    "B = nx.Graph()\n",
    "\n",
    "# Get all the trajectory ids from the lookup\n",
    "valid_nodes = set(fp_lookup.values())\n",
    "\n",
    "for node in valid_nodes:\n",
    "    B.add_node(node)\n",
    "\n",
    "# Either add an edge or append the distance to the edge data\n",
    "for id1,id2,dist in tqdm(wifi):\n",
    "    if not B.has_edge(fp_lookup[str(id1)], fp_lookup[str(id2)]):\n",
    "        \n",
    "        B.add_edge(fp_lookup[str(id1)], \n",
    "                   fp_lookup[str(id2)], \n",
    "                   ty = \"w\", weight=[dist])\n",
    "    else:\n",
    "        B[fp_lookup[str(id1)]][fp_lookup[str(id2)]]['weight'].append(dist)\n",
    "        \n",
    "# Compute the mean edge weight\n",
    "for edge in B.edges(data=True):\n",
    "    B[edge[0]][edge[1]]['weight'] = sum(B[edge[0]][edge[1]]['weight'])/len(B[edge[0]][edge[1]]['weight'])\n",
    "        \n",
    "# If you have made a wifi connection between trajectories with an elev, delete the edge\n",
    "for id1,id2 in tqdm(elevs):\n",
    "    if B.has_edge(fp_lookup[str(id1)], fp_lookup[str(id2)]):\n",
    "        B.remove_edge(fp_lookup[str(id1)], \n",
    "                      fp_lookup[str(id2)])\n",
    "\n",
    "nx.write_adjlist(B, \"my.adjlist\")"
   ]
  },
  {
   "cell_type": "markdown",
   "metadata": {},
   "source": [
    "## 2.4 Converting nodes to vectors\n",
    "Before giving the adjacency list as input to the machine learning algorithms, we convert the nodes to vector. In our work we used Node2vec as a graph embedding algorithm methodology proposed by Grover&Leskovec in 2016 \\[1\\]. Node2vec is a semi-supervised algorithm for feature learning of the nodes in the network. Node2vec is created based on the skip-gram technique, which is an NLP approach motivated on Distributional Structure concept.According to idea, if different words used in similar contexts they probably have a similar meaning and there is an obvious relationship between them. Skip-gram technique uses center word(input) to predict neighbours(output) while computing the probabilities of surroundings based on a given window size (contiguous sequence of items before of after the center), in other words N-grams. Unlike the NLP approach, Node2vec system is not fed with words which have a linear structure, but nodes and edges, which have a distributed graphical structure. This multidimensional structure makes embeddings complex and computationally expensive, but Node2vec uses negative sampling with optimizing stochastic gradient descent (SGD) to deal with it. In addition to this, The random walk approach is used to detect sample neighboring nodes of the source node in a nonlinear structure. \n",
    "\n",
    "In our study, we first performed the vector representation of node relationships in low-dimensional space by modeling with node2vec from given distance of two nodes (weights). Then we used the output of Node2vec (graph embeddings), which has vectors of nodes, to feed traditional K-means clustering algorithm.\n",
    "\n",
    "The parameters we use in Nod2vec can be listed as follows:\n",
    "\n",
    "| Hyperparameter | Value |\n",
    "| ------ | ------ |\n",
    "|dimensions|32|\n",
    "|walk_length|15|\n",
    "|num_walks|100|\n",
    "|workers|1|\n",
    "|seed|0|\n",
    "|window|10|\n",
    "|min_count|1|\n",
    "|batch_words|4|\n",
    "\n",
    "The Node2vec model takes the adjacency list as input and outputs a 32-size vector. In this part, the node.py file is created and run in the `Jupyter Notebook`. There are two reasons why it is preferable to run externally rather than in a Jupyter notebook cell.\n",
    "- It allows fixing the random seed of the node2vec module. Thus, it ensures repeatability by providing the same result in different runs.\n",
    "- `Node2vec` is a very computationally expensive method, RAM overflow error is quite possible if run inside Jupyter notebook. Creating and running `Node2vec` model outside avoids this error.\n",
    "\n",
    "The cell below creates the file named node.py. This file creates the node2vec model. This model takes the the adjacency list (`my.adjlist`) as input and creates a 32-dimensional vector file as output (`vectors.emb`).\n",
    "\n",
    "**Important! The code below should be run in Linux distributions (Tested in Google colab and Ubuntu).**"
   ]
  },
  {
   "cell_type": "code",
   "execution_count": 5,
   "metadata": {},
   "outputs": [
    {
     "name": "stderr",
     "output_type": "stream",
     "text": [
      "'PYTHONHASHSEED' is not recognized as an internal or external command,\n",
      "operable program or batch file.\n"
     ]
    }
   ],
   "source": [
    "# 2.4 Converting nodes to vectors\n",
    "# A folder named tmp is created. This folder is essential for the node2vec model to use less RAM.\n",
    "try:\n",
    "    if not os.path.exists(\"tmp\"):\n",
    "        os.makedirs(\"tmp\")\n",
    "except OSError:\n",
    "    print (\"The folder could not be created!\\n Please manually create the \\\"tmp\\\" folder in the directory\")\n",
    "\n",
    "\n",
    "node=\"\"\"\n",
    "\n",
    "# importing related modules\n",
    "\n",
    "from node2vec import Node2Vec\n",
    "import networkx as nx\n",
    "\n",
    "#importing  adjacency list file as B\n",
    "B = nx.read_adjlist(\"my.adjlist\")\n",
    "\n",
    "seed_value=0\n",
    "\n",
    "\n",
    "# Specifying the input and hyperparameters of the node2vec model\n",
    "node2vec = Node2Vec(B, dimensions=32, walk_length=15, num_walks=100, workers=1,seed=seed_value,temp_folder = './tmp')  \n",
    "\n",
    "#Assigning/specifying random seeds\n",
    "\n",
    "import os\n",
    "os.environ['PYTHONHASHSEED']=str(seed_value)\n",
    "\n",
    "import random\n",
    "random.seed(seed_value)\n",
    "\n",
    "import numpy as np\n",
    "np.random.seed(seed_value)\n",
    "\n",
    "\n",
    "# creation of the model\n",
    "\n",
    "model = node2vec.fit(window=10, min_count=1, batch_words=4,seed=seed_value)   \n",
    "\n",
    "\n",
    "# saving the output vector\n",
    "\n",
    "model.wv.save_word2vec_format(\"vectors.emb\")\n",
    "\n",
    "# save the model\n",
    "model.save(\"vectorMODEL\")\n",
    "\n",
    "\"\"\"\n",
    "f = open(\"node.py\", \"w\")\n",
    "f.write(node)\n",
    "f.close()\n",
    "\n",
    "\n",
    "!PYTHONHASHSEED=0 python3 node.py \n"
   ]
  },
  {
   "cell_type": "markdown",
   "metadata": {},
   "source": [
    "## 2.4 Reshaping data\n",
    "After our vector file is created, we read this file (`vectors.emb`). This file consists of 33 columns. The first column is the node number (IDs), and remain are vector values. By sorting the entire file by the first column, we return the nodes to their original order. Then we delete this ID column, which we will no longer use. So, we give the final shape of our data. Our data is ready to be used in machine learning applications."
   ]
  },
  {
   "cell_type": "code",
   "execution_count": 5,
   "metadata": {},
   "outputs": [
    {
     "name": "stdout",
     "output_type": "stream",
     "text": [
      "shape of vector file:  (11162, 33)\n",
      "[[ 9.1200000e+03  3.9031842e-01 -4.7147268e-01 ... -5.7490986e-02\n",
      "   1.3059708e-01 -5.4280665e-02]\n",
      " [ 6.5320000e+03 -3.5591956e-02 -9.8558587e-01 ... -2.7217887e-02\n",
      "   5.6435770e-01 -5.7787680e-01]\n",
      " [ 5.6580000e+03  3.5879680e-01 -4.7564098e-01 ... -9.7607370e-02\n",
      "   1.5506668e-01  1.1333219e-01]\n",
      " ...\n",
      " [ 2.7950000e+03  1.1724627e-02  1.0272172e-02 ... -4.5596390e-04\n",
      "  -1.1507459e-02 -7.6738600e-04]\n",
      " [ 4.3380000e+03  1.2865483e-02  1.2103912e-02 ...  1.6619096e-03\n",
      "   1.3672550e-02  1.4605848e-02]\n",
      " [ 1.1770000e+03 -1.3707868e-03  1.5238028e-02 ... -5.9994194e-04\n",
      "  -1.2986251e-02  1.3706315e-03]]\n"
     ]
    }
   ],
   "source": [
    "# 2.4 Reshaping data\n",
    "vec = np.loadtxt(\"vectors.emb\", skiprows=1)\n",
    "print(\"shape of vector file: \",vec.shape)\n",
    "print(vec)\n",
    "vec=vec[vec[:,0].argsort()]; \n",
    "vec=vec[0:vec.shape[0],1:vec.shape[1]]"
   ]
  },
  {
   "cell_type": "markdown",
   "metadata": {},
   "source": [
    "## 2.5 Determine the number of clusters"
   ]
  },
  {
   "cell_type": "markdown",
   "metadata": {},
   "source": [
    "Task-2 is a clustering problem. The premise that we need to decide when solving this problem is how many clusters we should divide into. For this, we tried different cluster numbers and compared the scores we got. The graph below shows the comparison of the number of clusters and the score obtained. As can be seen from this graph, the number of clusters increased continuously between 5 and 21, with some exception fluctuations, and stabilized after 21. For this reason, we focused on the number of clusters between 21 and 23 in our study."
   ]
  },
  {
   "cell_type": "code",
   "execution_count": 6,
   "metadata": {},
   "outputs": [
    {
     "data": {
      "image/png": "[encoded data removed]",
      "text/plain": [
       "<Figure size 720x360 with 1 Axes>"
      ]
     },
     "metadata": {
      "needs_background": "light"
     },
     "output_type": "display_data"
    }
   ],
   "source": [
    "# 2.5 Determine the number of clusters\n",
    "import numpy as np\n",
    "import matplotlib.pyplot as plt\n",
    "import matplotlib\n",
    "%matplotlib inline\n",
    "agglom=[24.69,28.14,28.14,28.14,30,33.33,40.88,38.70,40,40,40,29.12,45.85,45.85,48.00,50.17,57.83,57.83,57.83]\n",
    "plt.figure(figsize=(10,5))\n",
    "plt.grid()\n",
    "plt.plot(range(5, 24), agglom)\n",
    "matplotlib.pyplot.xticks(range(5, 24))\n",
    "plt.title('Number of clusters and performance relationship')\n",
    "plt.xlabel('Number of clusters')\n",
    "plt.ylabel('Score')\n",
    "plt.show()"
   ]
  },
  {
   "cell_type": "markdown",
   "metadata": {},
   "source": [
    "## 2.5  Best result\n",
    "\n",
    "Among the unsupervised machine learning methods we tried (such as [K-means](https://scikit-learn.org/stable/modules/clustering.html#k-means),\n",
    "[Agglomerative Clustering](https://scikit-learn.org/stable/modules/clustering.html#hierarchical-clustering),\n",
    "[Affinity Propagation](https://scikit-learn.org/stable/modules/clustering.html#affinity-propagation),\n",
    "[Mean Shift](https://scikit-learn.org/stable/modules/clustering.html#mean-shift),\n",
    "[Spectral clustering](https://scikit-learn.org/stable/modules/clustering.html#spectral-clustering),\n",
    "[DBSCAN](https://scikit-learn.org/stable/modules/clustering.html#dbscan),\n",
    "[OPTICS](https://scikit-learn.org/stable/modules/clustering.html#optics),\n",
    "[BIRCH](https://scikit-learn.org/stable/modules/clustering.html#birch),\n",
    "[Mini-Batch K-Means](https://scikit-learn.org/stable/modules/clustering.html#mini-batch-k-means)), we achieved the best results using k-Means with 23 clusters.\n",
    "\n",
    "\n",
    "K-means is a clustering algorithm is one of the basic and traditional unsupervised machine learning techniques which make assumptions to find homogeneous or natural groups of elements (clusters) using unlabelled data. Clusters are to set of points (nodes in our data) grouped together which share particular similarities. K-means needs the target number of centroids which refers to how many groups the data should be divided into. Algorithm starts with group of randomly assigned centroids then continue iterations to find the best positions of them. The algorithm assigns the points/nodes to the appointed centroids using in-cluster the sum of squares of the member of points, this is continue updating and relocating \\[2\\]. In our example the number of centroids reflects the number of floors. It should be noted that this does not provide information about the order of the floors.\n",
    "\n",
    "\n",
    "Below, k-Means application has been made for 23 clusters."
   ]
  },
  {
   "cell_type": "code",
   "execution_count": 7,
   "metadata": {},
   "outputs": [
    {
     "name": "stdout",
     "output_type": "stream",
     "text": [
      "KMeans(n_clusters=23, random_state=10) 1.1391944885253906\n"
     ]
    }
   ],
   "source": [
    "# 2.5  Best result\n",
    "from sklearn import cluster\n",
    "import time\n",
    "\n",
    "ML_results = []\n",
    "k_clusters = 23\n",
    "algorithms = {}\n",
    "algorithms['KMeans'] =cluster.KMeans(n_clusters=k_clusters,random_state=10)\n",
    "second=time.time()\n",
    "for model in algorithms.values():\n",
    "    model.fit(vec)\n",
    "    ML_results=list(model.labels_)\n",
    "    print(model,time.time()-second)"
   ]
  },
  {
   "cell_type": "markdown",
   "metadata": {},
   "source": [
    "## 2.6 Submission \n",
    "The output of the machine learning algorithm determines which cluster the fingerprints belong to. But what is required of us is to cluster the trajectories. Therefore, these fingerprints are converted to their trajectory counterparts using the `fp_lookup` variable. This output is processed into the `TASK2-Mysubmission.csv` file."
   ]
  },
  {
   "cell_type": "code",
   "execution_count": null,
   "metadata": {},
   "outputs": [],
   "source": [
    "## 2.6 Submission \n",
    "result={}\n",
    "for ii,i in enumerate(set(fp_lookup.values())):\n",
    "    result[i]=ML_results[ii]\n",
    "        \n",
    "    \n",
    "ters={}\n",
    "for i in result:\n",
    "    if result[i] not in ters:\n",
    "        ters[result[i]]=[]\n",
    "        ters[result[i]].append(i)\n",
    "    else:\n",
    "        ters[result[i]].append(i)\n",
    "        \n",
    "        \n",
    "        \n",
    "final_results=[]\n",
    "for i in ters:\n",
    "    final_results.append(ters[i])\n",
    "    \n",
    "    \n",
    "name=\"TASK2-Mysubmission.csv\"    \n",
    "with open(name, \"w\", newline='') as f:\n",
    "    csv_writer = csv.writer(f)\n",
    "    csv_writer.writerows(final_results)\n",
    "print(name, \"file is ready!\")"
   ]
  },
  {
   "cell_type": "markdown",
   "metadata": {},
   "source": [
    "-----------------------"
   ]
  },
  {
   "cell_type": "markdown",
   "metadata": {},
   "source": [
    "# References\n",
    "\n",
    "\\[1\\] A. Grover, J. Leskovec. ACM SIGKDD International Conference on Knowledge Discovery and Data Mining (KDD), 2016.\n",
    "\n",
    "\\[2\\] Jin X., Han J. (2011) K-Means Clustering. In: Sammut C., Webb G.I. (eds) Encyclopedia of Machine Learning. Springer, Boston, MA. https://doi.org/10.1007/978-0-387-30164-8_425"
   ]
  }
 ],
 "metadata": {
  "kernelspec": {
   "display_name": "Python 3",
   "language": "python",
   "name": "python3"
  },
  "language_info": {
   "codemirror_mode": {
    "name": "ipython",
    "version": 3
   },
   "file_extension": ".py",
   "mimetype": "text/x-python",
   "name": "python",
   "nbconvert_exporter": "python",
   "pygments_lexer": "ipython3",
   "version": "3.6.5"
  }
 },
 "nbformat": 4,
 "nbformat_minor": 5
}
